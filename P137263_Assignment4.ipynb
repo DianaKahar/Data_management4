{
  "nbformat": 4,
  "nbformat_minor": 0,
  "metadata": {
    "colab": {
      "provenance": [],
      "mount_file_id": "1Y9HreIE5gxW1jsHze6qCZ1IKNCZCwI4X",
      "authorship_tag": "ABX9TyNBkxvTx1tDj2gfaKdCPTtc",
      "include_colab_link": true
    },
    "kernelspec": {
      "name": "python3",
      "display_name": "Python 3"
    },
    "language_info": {
      "name": "python"
    }
  },
  "cells": [
    {
      "cell_type": "markdown",
      "metadata": {
        "id": "view-in-github",
        "colab_type": "text"
      },
      "source": [
        "<a href=\"https://colab.research.google.com/github/DianaKahar/Data_management4/blob/main/P137263_Assignment4.ipynb\" target=\"_parent\"><img src=\"https://colab.research.google.com/assets/colab-badge.svg\" alt=\"Open In Colab\"/></a>"
      ]
    },
    {
      "cell_type": "markdown",
      "source": [
        "#**STQD6324 DATA MANAGEMENT**"
      ],
      "metadata": {
        "id": "YY7yZc5jJyws"
      }
    },
    {
      "cell_type": "markdown",
      "source": [
        "**INTRODUCTION**"
      ],
      "metadata": {
        "id": "b96KwVJbKCR9"
      }
    },
    {
      "cell_type": "markdown",
      "source": [
        "The MovieLens dataset is a widely used dataset in the field of data science and machine learning for performing various analytical and predictive tasks related to movie recommendations. This project leverages the MovieLens 100k dataset to perform data processing, analysis, and querying using Apache Spark and Apache Cassandra.\n",
        "\n",
        "Apache Cassandra is scalable, distributed by NoSQL database which is designed to handle multiple nodes across multiple data centres. It uses a peer to peer distribuion system across a cluster of nodes where each nodes is able to communicate with other nodes in the cluster without needing a master node. Cassandra is also able to provide linear scalability and designed to be fault tolerant. CQL is the quary language to interact with Cassandra. Similarly to SQL and provides syntax for creating tables, inserting data, querying data and managing the database schema."
      ],
      "metadata": {
        "id": "pGBMYcogKB4b"
      }
    },
    {
      "cell_type": "markdown",
      "source": [
        "**DATASET INFORMATION**"
      ],
      "metadata": {
        "id": "6lPa1DG2L283"
      }
    },
    {
      "cell_type": "markdown",
      "source": [
        "The dataset was collected by Grouplens Research and made available rating datasets from MovieLens website. The dataset was collected over a period of time and the dataset used in this project is from MovieLens 100k Dataset. This dataset was released at Febuary 2003, it has 100,000 ratings from 1000 users on 1700 movies. Each user rated at least 20 movies and the users demographic was collected (age, gender, occupation, zip). for this project onlu u.user, u.item and u.data was used."
      ],
      "metadata": {
        "id": "ibhJgw-SL9yn"
      }
    },
    {
      "cell_type": "markdown",
      "source": [
        "**PROJECT SUMMARY**"
      ],
      "metadata": {
        "id": "hhClt8lRUpRj"
      }
    },
    {
      "cell_type": "markdown",
      "source": [
        "i) Calculate the average rating for each movie.\n",
        "\n",
        "ii) Identify the top ten movies with the highest average ratings.\n",
        "\n",
        "iii) Find the users who have rated at least 50 movies and identify their favourite movie genres.\n",
        "\n",
        "iv) Find all the users with age that is less than 20 years old.\n",
        "\n",
        "v) Find all the users who have the occupation “scientist” and their age is between 30 and 40 years old."
      ],
      "metadata": {
        "id": "9H1BRgMdUPLF"
      }
    },
    {
      "cell_type": "code",
      "source": [],
      "metadata": {
        "id": "nB5wbqSUJxvI"
      },
      "execution_count": null,
      "outputs": []
    },
    {
      "cell_type": "code",
      "source": [],
      "metadata": {
        "id": "NnRB9fukJxxz"
      },
      "execution_count": null,
      "outputs": []
    },
    {
      "cell_type": "code",
      "source": [],
      "metadata": {
        "id": "4SFQrwQxJx0X"
      },
      "execution_count": null,
      "outputs": []
    },
    {
      "cell_type": "code",
      "source": [],
      "metadata": {
        "id": "iUpH7SvrJx3N"
      },
      "execution_count": null,
      "outputs": []
    },
    {
      "cell_type": "code",
      "source": [],
      "metadata": {
        "id": "O_XONotuJx6B"
      },
      "execution_count": null,
      "outputs": []
    },
    {
      "cell_type": "code",
      "source": [],
      "metadata": {
        "id": "5yUG9fa9Jx9I"
      },
      "execution_count": null,
      "outputs": []
    },
    {
      "cell_type": "code",
      "source": [],
      "metadata": {
        "id": "rCk5g5LKJx_4"
      },
      "execution_count": null,
      "outputs": []
    },
    {
      "cell_type": "code",
      "source": [],
      "metadata": {
        "id": "lFFbt8yyJyDZ"
      },
      "execution_count": null,
      "outputs": []
    },
    {
      "cell_type": "code",
      "source": [],
      "metadata": {
        "id": "IFCVXxQoPHW_"
      },
      "execution_count": null,
      "outputs": []
    },
    {
      "cell_type": "code",
      "source": [],
      "metadata": {
        "id": "FpzSLoa4B6kF"
      },
      "execution_count": null,
      "outputs": []
    }
  ]
}